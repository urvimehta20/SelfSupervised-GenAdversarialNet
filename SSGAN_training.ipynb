{
  "cells": [
    {
      "cell_type": "markdown",
      "metadata": {
        "id": "C_DX_JKBkcSO"
      },
      "source": [
        "# Installing Necessary Libraries\n"
      ]
    },
    {
      "cell_type": "code",
      "execution_count": 2,
      "metadata": {
        "colab": {
          "base_uri": "https://localhost:8080/"
        },
        "id": "LHsT-mWinriz",
        "outputId": "7007cc29-5cad-400f-8226-8b2ecc418c30"
      },
      "outputs": [
        {
          "name": "stdout",
          "output_type": "stream",
          "text": [
            "Requirement already satisfied: sdv==1.5.0 in d:\\ssgans_githubworkflow\\.venv\\lib\\site-packages (from -r requirements.txt (line 1)) (1.5.0)\n",
            "Requirement already satisfied: sdmetrics==0.11.1 in d:\\ssgans_githubworkflow\\.venv\\lib\\site-packages (from -r requirements.txt (line 2)) (0.11.1)\n",
            "Requirement already satisfied: botocore==1.31.73 in d:\\ssgans_githubworkflow\\.venv\\lib\\site-packages (from -r requirements.txt (line 3)) (1.31.73)\n",
            "Requirement already satisfied: urllib3==2.0.6 in d:\\ssgans_githubworkflow\\.venv\\lib\\site-packages (from -r requirements.txt (line 4)) (2.0.6)\n",
            "Requirement already satisfied: pandas==2.0.3 in d:\\ssgans_githubworkflow\\.venv\\lib\\site-packages (from -r requirements.txt (line 5)) (2.0.3)\n",
            "Requirement already satisfied: nbformat==4.2.0 in d:\\ssgans_githubworkflow\\.venv\\lib\\site-packages (from -r requirements.txt (line 6)) (4.2.0)\n",
            "Requirement already satisfied: boto3<2,>=1.15.0 in d:\\ssgans_githubworkflow\\.venv\\lib\\site-packages (from sdv==1.5.0->-r requirements.txt (line 1)) (1.28.73)\n",
            "Requirement already satisfied: cloudpickle<3.0,>=2.1.0 in d:\\ssgans_githubworkflow\\.venv\\lib\\site-packages (from sdv==1.5.0->-r requirements.txt (line 1)) (2.2.1)\n",
            "Requirement already satisfied: Faker<15,>=10 in d:\\ssgans_githubworkflow\\.venv\\lib\\site-packages (from sdv==1.5.0->-r requirements.txt (line 1)) (14.2.1)\n",
            "Requirement already satisfied: graphviz<1,>=0.13.2 in d:\\ssgans_githubworkflow\\.venv\\lib\\site-packages (from sdv==1.5.0->-r requirements.txt (line 1)) (0.20.3)\n",
            "Requirement already satisfied: tqdm<5,>=4.15 in d:\\ssgans_githubworkflow\\.venv\\lib\\site-packages (from sdv==1.5.0->-r requirements.txt (line 1)) (4.66.4)\n",
            "Requirement already satisfied: copulas<0.10,>=0.9.0 in d:\\ssgans_githubworkflow\\.venv\\lib\\site-packages (from sdv==1.5.0->-r requirements.txt (line 1)) (0.9.2)\n",
            "Requirement already satisfied: ctgan<0.8,>=0.7.4 in d:\\ssgans_githubworkflow\\.venv\\lib\\site-packages (from sdv==1.5.0->-r requirements.txt (line 1)) (0.7.5)\n",
            "Requirement already satisfied: deepecho<0.5,>=0.4.2 in d:\\ssgans_githubworkflow\\.venv\\lib\\site-packages (from sdv==1.5.0->-r requirements.txt (line 1)) (0.4.2)\n",
            "Requirement already satisfied: rdt<2,>=1.7.0 in d:\\ssgans_githubworkflow\\.venv\\lib\\site-packages (from sdv==1.5.0->-r requirements.txt (line 1)) (1.7.0)\n",
            "Requirement already satisfied: numpy<2,>=1.23.3 in d:\\ssgans_githubworkflow\\.venv\\lib\\site-packages (from sdv==1.5.0->-r requirements.txt (line 1)) (1.26.4)\n",
            "Requirement already satisfied: plotly<6,>=5.10.0 in d:\\ssgans_githubworkflow\\.venv\\lib\\site-packages (from sdmetrics==0.11.1->-r requirements.txt (line 2)) (5.22.0)\n",
            "Requirement already satisfied: scipy<2,>=1.9.2 in d:\\ssgans_githubworkflow\\.venv\\lib\\site-packages (from sdmetrics==0.11.1->-r requirements.txt (line 2)) (1.14.0)\n",
            "Requirement already satisfied: scikit-learn<2,>=1.1.3 in d:\\ssgans_githubworkflow\\.venv\\lib\\site-packages (from sdmetrics==0.11.1->-r requirements.txt (line 2)) (1.5.1)\n",
            "Requirement already satisfied: jmespath<2.0.0,>=0.7.1 in d:\\ssgans_githubworkflow\\.venv\\lib\\site-packages (from botocore==1.31.73->-r requirements.txt (line 3)) (1.0.1)\n",
            "Requirement already satisfied: python-dateutil<3.0.0,>=2.1 in d:\\ssgans_githubworkflow\\.venv\\lib\\site-packages (from botocore==1.31.73->-r requirements.txt (line 3)) (2.9.0.post0)\n",
            "Requirement already satisfied: pytz>=2020.1 in d:\\ssgans_githubworkflow\\.venv\\lib\\site-packages (from pandas==2.0.3->-r requirements.txt (line 5)) (2024.1)\n",
            "Requirement already satisfied: tzdata>=2022.1 in d:\\ssgans_githubworkflow\\.venv\\lib\\site-packages (from pandas==2.0.3->-r requirements.txt (line 5)) (2024.1)\n",
            "Requirement already satisfied: ipython-genutils in d:\\ssgans_githubworkflow\\.venv\\lib\\site-packages (from nbformat==4.2.0->-r requirements.txt (line 6)) (0.2.0)\n",
            "Requirement already satisfied: jsonschema!=2.5.0,>=2.4 in d:\\ssgans_githubworkflow\\.venv\\lib\\site-packages (from nbformat==4.2.0->-r requirements.txt (line 6)) (4.23.0)\n",
            "Requirement already satisfied: jupyter-core in d:\\ssgans_githubworkflow\\.venv\\lib\\site-packages (from nbformat==4.2.0->-r requirements.txt (line 6)) (5.7.2)\n",
            "Requirement already satisfied: traitlets>=4.1 in d:\\ssgans_githubworkflow\\.venv\\lib\\site-packages (from nbformat==4.2.0->-r requirements.txt (line 6)) (5.14.3)\n",
            "Requirement already satisfied: s3transfer<0.8.0,>=0.7.0 in d:\\ssgans_githubworkflow\\.venv\\lib\\site-packages (from boto3<2,>=1.15.0->sdv==1.5.0->-r requirements.txt (line 1)) (0.7.0)\n",
            "Requirement already satisfied: matplotlib<4,>=3.6.0 in d:\\ssgans_githubworkflow\\.venv\\lib\\site-packages (from copulas<0.10,>=0.9.0->sdv==1.5.0->-r requirements.txt (line 1)) (3.9.1)\n",
            "Requirement already satisfied: torch>=2.0.0 in d:\\ssgans_githubworkflow\\.venv\\lib\\site-packages (from ctgan<0.8,>=0.7.4->sdv==1.5.0->-r requirements.txt (line 1)) (2.3.1)\n",
            "Requirement already satisfied: attrs>=22.2.0 in d:\\ssgans_githubworkflow\\.venv\\lib\\site-packages (from jsonschema!=2.5.0,>=2.4->nbformat==4.2.0->-r requirements.txt (line 6)) (23.2.0)\n",
            "Requirement already satisfied: jsonschema-specifications>=2023.03.6 in d:\\ssgans_githubworkflow\\.venv\\lib\\site-packages (from jsonschema!=2.5.0,>=2.4->nbformat==4.2.0->-r requirements.txt (line 6)) (2023.12.1)\n",
            "Requirement already satisfied: referencing>=0.28.4 in d:\\ssgans_githubworkflow\\.venv\\lib\\site-packages (from jsonschema!=2.5.0,>=2.4->nbformat==4.2.0->-r requirements.txt (line 6)) (0.35.1)\n",
            "Requirement already satisfied: rpds-py>=0.7.1 in d:\\ssgans_githubworkflow\\.venv\\lib\\site-packages (from jsonschema!=2.5.0,>=2.4->nbformat==4.2.0->-r requirements.txt (line 6)) (0.19.0)\n",
            "Requirement already satisfied: tenacity>=6.2.0 in d:\\ssgans_githubworkflow\\.venv\\lib\\site-packages (from plotly<6,>=5.10.0->sdmetrics==0.11.1->-r requirements.txt (line 2)) (8.5.0)\n",
            "Requirement already satisfied: packaging in d:\\ssgans_githubworkflow\\.venv\\lib\\site-packages (from plotly<6,>=5.10.0->sdmetrics==0.11.1->-r requirements.txt (line 2)) (24.1)\n",
            "Requirement already satisfied: six>=1.5 in d:\\ssgans_githubworkflow\\.venv\\lib\\site-packages (from python-dateutil<3.0.0,>=2.1->botocore==1.31.73->-r requirements.txt (line 3)) (1.16.0)\n",
            "Requirement already satisfied: psutil<6,>=5.7 in d:\\ssgans_githubworkflow\\.venv\\lib\\site-packages (from rdt<2,>=1.7.0->sdv==1.5.0->-r requirements.txt (line 1)) (5.9.8)\n",
            "Requirement already satisfied: joblib>=1.2.0 in d:\\ssgans_githubworkflow\\.venv\\lib\\site-packages (from scikit-learn<2,>=1.1.3->sdmetrics==0.11.1->-r requirements.txt (line 2)) (1.4.2)\n",
            "Requirement already satisfied: threadpoolctl>=3.1.0 in d:\\ssgans_githubworkflow\\.venv\\lib\\site-packages (from scikit-learn<2,>=1.1.3->sdmetrics==0.11.1->-r requirements.txt (line 2)) (3.5.0)\n",
            "Requirement already satisfied: colorama in d:\\ssgans_githubworkflow\\.venv\\lib\\site-packages (from tqdm<5,>=4.15->sdv==1.5.0->-r requirements.txt (line 1)) (0.4.6)\n",
            "Requirement already satisfied: platformdirs>=2.5 in d:\\ssgans_githubworkflow\\.venv\\lib\\site-packages (from jupyter-core->nbformat==4.2.0->-r requirements.txt (line 6)) (4.2.2)\n",
            "Requirement already satisfied: pywin32>=300 in d:\\ssgans_githubworkflow\\.venv\\lib\\site-packages (from jupyter-core->nbformat==4.2.0->-r requirements.txt (line 6)) (306)\n",
            "Requirement already satisfied: contourpy>=1.0.1 in d:\\ssgans_githubworkflow\\.venv\\lib\\site-packages (from matplotlib<4,>=3.6.0->copulas<0.10,>=0.9.0->sdv==1.5.0->-r requirements.txt (line 1)) (1.2.1)\n",
            "Requirement already satisfied: cycler>=0.10 in d:\\ssgans_githubworkflow\\.venv\\lib\\site-packages (from matplotlib<4,>=3.6.0->copulas<0.10,>=0.9.0->sdv==1.5.0->-r requirements.txt (line 1)) (0.12.1)\n",
            "Requirement already satisfied: fonttools>=4.22.0 in d:\\ssgans_githubworkflow\\.venv\\lib\\site-packages (from matplotlib<4,>=3.6.0->copulas<0.10,>=0.9.0->sdv==1.5.0->-r requirements.txt (line 1)) (4.53.1)\n",
            "Requirement already satisfied: kiwisolver>=1.3.1 in d:\\ssgans_githubworkflow\\.venv\\lib\\site-packages (from matplotlib<4,>=3.6.0->copulas<0.10,>=0.9.0->sdv==1.5.0->-r requirements.txt (line 1)) (1.4.5)\n",
            "Requirement already satisfied: pillow>=8 in d:\\ssgans_githubworkflow\\.venv\\lib\\site-packages (from matplotlib<4,>=3.6.0->copulas<0.10,>=0.9.0->sdv==1.5.0->-r requirements.txt (line 1)) (10.4.0)\n",
            "Requirement already satisfied: pyparsing>=2.3.1 in d:\\ssgans_githubworkflow\\.venv\\lib\\site-packages (from matplotlib<4,>=3.6.0->copulas<0.10,>=0.9.0->sdv==1.5.0->-r requirements.txt (line 1)) (3.1.2)\n",
            "Requirement already satisfied: filelock in d:\\ssgans_githubworkflow\\.venv\\lib\\site-packages (from torch>=2.0.0->ctgan<0.8,>=0.7.4->sdv==1.5.0->-r requirements.txt (line 1)) (3.15.4)\n",
            "Requirement already satisfied: typing-extensions>=4.8.0 in d:\\ssgans_githubworkflow\\.venv\\lib\\site-packages (from torch>=2.0.0->ctgan<0.8,>=0.7.4->sdv==1.5.0->-r requirements.txt (line 1)) (4.12.2)\n",
            "Requirement already satisfied: sympy in d:\\ssgans_githubworkflow\\.venv\\lib\\site-packages (from torch>=2.0.0->ctgan<0.8,>=0.7.4->sdv==1.5.0->-r requirements.txt (line 1)) (1.13.1)\n",
            "Requirement already satisfied: networkx in d:\\ssgans_githubworkflow\\.venv\\lib\\site-packages (from torch>=2.0.0->ctgan<0.8,>=0.7.4->sdv==1.5.0->-r requirements.txt (line 1)) (3.3)\n",
            "Requirement already satisfied: jinja2 in d:\\ssgans_githubworkflow\\.venv\\lib\\site-packages (from torch>=2.0.0->ctgan<0.8,>=0.7.4->sdv==1.5.0->-r requirements.txt (line 1)) (3.1.4)\n",
            "Requirement already satisfied: fsspec in d:\\ssgans_githubworkflow\\.venv\\lib\\site-packages (from torch>=2.0.0->ctgan<0.8,>=0.7.4->sdv==1.5.0->-r requirements.txt (line 1)) (2024.6.1)\n",
            "Requirement already satisfied: mkl<=2021.4.0,>=2021.1.1 in d:\\ssgans_githubworkflow\\.venv\\lib\\site-packages (from torch>=2.0.0->ctgan<0.8,>=0.7.4->sdv==1.5.0->-r requirements.txt (line 1)) (2021.4.0)\n",
            "Requirement already satisfied: intel-openmp==2021.* in d:\\ssgans_githubworkflow\\.venv\\lib\\site-packages (from mkl<=2021.4.0,>=2021.1.1->torch>=2.0.0->ctgan<0.8,>=0.7.4->sdv==1.5.0->-r requirements.txt (line 1)) (2021.4.0)\n",
            "Requirement already satisfied: tbb==2021.* in d:\\ssgans_githubworkflow\\.venv\\lib\\site-packages (from mkl<=2021.4.0,>=2021.1.1->torch>=2.0.0->ctgan<0.8,>=0.7.4->sdv==1.5.0->-r requirements.txt (line 1)) (2021.13.0)\n",
            "Requirement already satisfied: MarkupSafe>=2.0 in d:\\ssgans_githubworkflow\\.venv\\lib\\site-packages (from jinja2->torch>=2.0.0->ctgan<0.8,>=0.7.4->sdv==1.5.0->-r requirements.txt (line 1)) (2.1.5)\n",
            "Requirement already satisfied: mpmath<1.4,>=1.1.0 in d:\\ssgans_githubworkflow\\.venv\\lib\\site-packages (from sympy->torch>=2.0.0->ctgan<0.8,>=0.7.4->sdv==1.5.0->-r requirements.txt (line 1)) (1.3.0)\n"
          ]
        }
      ],
      "source": [
        "!pip install -r requirements.txt"
      ]
    },
    {
      "cell_type": "code",
      "execution_count": 4,
      "metadata": {
        "colab": {
          "base_uri": "https://localhost:8080/"
        },
        "id": "kgXbknn8FYSm",
        "outputId": "fe873222-0f1c-4490-8aaf-f7fc85a1e041"
      },
      "outputs": [
        {
          "name": "stdout",
          "output_type": "stream",
          "text": [
            "3.11.9\n"
          ]
        }
      ],
      "source": [
        "import platform\n",
        "print(platform.python_version())"
      ]
    },
    {
      "cell_type": "markdown",
      "metadata": {
        "id": "nmBic0T8lMy2"
      },
      "source": [
        "\n",
        "# Loading The Data"
      ]
    },
    {
      "cell_type": "code",
      "execution_count": 3,
      "metadata": {
        "id": "FXXiZ2uSe-RA"
      },
      "outputs": [],
      "source": [
        "import pandas as pd\n",
        "\n",
        "# Load the CSV data into a DataFrame\n",
        "df = pd.read_csv(r'data\\training_data\\startup_data.csv')\n",
        "data = df\n"
      ]
    },
    {
      "cell_type": "markdown",
      "metadata": {
        "id": "hmzniAcXl7MR"
      },
      "source": [
        "# Creating the Metadata Necessary for Synthesizing Data  "
      ]
    },
    {
      "cell_type": "code",
      "execution_count": 4,
      "metadata": {
        "id": "hmMSbmg9sK1e"
      },
      "outputs": [],
      "source": [
        "from sdv.metadata import SingleTableMetadata\n",
        "\n",
        "metadata = SingleTableMetadata()"
      ]
    },
    {
      "cell_type": "code",
      "execution_count": 5,
      "metadata": {
        "id": "r0LbJ-njsKx8"
      },
      "outputs": [],
      "source": [
        "metadata.detect_from_csv(filepath=r'data\\training_data\\startup_data.csv')"
      ]
    },
    {
      "cell_type": "code",
      "execution_count": 6,
      "metadata": {
        "id": "shuYcyFrtFIe"
      },
      "outputs": [],
      "source": [
        "python_dict = metadata.to_dict()"
      ]
    },
    {
      "cell_type": "code",
      "execution_count": 7,
      "metadata": {
        "id": "0fB8nOG7xhlk"
      },
      "outputs": [],
      "source": [
        "metadata.validate()"
      ]
    },
    {
      "cell_type": "markdown",
      "metadata": {
        "id": "IxUd8UvUmNu6"
      },
      "source": [
        "# Saving the Metadata in a JSON File"
      ]
    },
    {
      "cell_type": "code",
      "execution_count": 9,
      "metadata": {
        "id": "kMjX0vkOsKos"
      },
      "outputs": [],
      "source": [
        "metadata.save_to_json(filepath=r'data\\training_data\\metadata\\my_metadata_v6.json')"
      ]
    },
    {
      "cell_type": "code",
      "execution_count": 11,
      "metadata": {
        "id": "Z8Zg458qzWdt"
      },
      "outputs": [],
      "source": [
        "from sdv.metadata import SingleTableMetadata\n",
        "\n",
        "metadata = SingleTableMetadata.load_from_json(\n",
        "    filepath=r'data\\training_data\\metadata\\my_metadata_v6.json')"
      ]
    },
    {
      "cell_type": "markdown",
      "metadata": {
        "id": "lyk55M_7mYEs"
      },
      "source": [
        "# Constructing a CTGANSynthesizer\n"
      ]
    },
    {
      "cell_type": "code",
      "execution_count": 12,
      "metadata": {
        "id": "earZaHOs-Vkg"
      },
      "outputs": [],
      "source": [
        "from sdv.single_table import CTGANSynthesizer\n",
        "\n",
        "synthesizer = CTGANSynthesizer(\n",
        "    metadata, # required\n",
        "    enforce_rounding=False,\n",
        "    epochs=500,\n",
        "    verbose=True\n",
        ")\n"
      ]
    },
    {
      "cell_type": "code",
      "execution_count": 13,
      "metadata": {
        "colab": {
          "base_uri": "https://localhost:8080/"
        },
        "id": "5-Twz8tw-VSa",
        "outputId": "89feb28f-c9ba-4add-b893-d8ae8e8b202b"
      },
      "outputs": [
        {
          "data": {
            "text/plain": [
              "{'enforce_min_max_values': True,\n",
              " 'enforce_rounding': False,\n",
              " 'locales': None,\n",
              " 'embedding_dim': 128,\n",
              " 'generator_dim': (256, 256),\n",
              " 'discriminator_dim': (256, 256),\n",
              " 'generator_lr': 0.0002,\n",
              " 'generator_decay': 1e-06,\n",
              " 'discriminator_lr': 0.0002,\n",
              " 'discriminator_decay': 1e-06,\n",
              " 'batch_size': 500,\n",
              " 'discriminator_steps': 1,\n",
              " 'log_frequency': True,\n",
              " 'verbose': True,\n",
              " 'epochs': 500,\n",
              " 'pac': 10,\n",
              " 'cuda': True}"
            ]
          },
          "execution_count": 13,
          "metadata": {},
          "output_type": "execute_result"
        }
      ],
      "source": [
        "synthesizer.get_parameters()"
      ]
    },
    {
      "cell_type": "code",
      "execution_count": 14,
      "metadata": {
        "colab": {
          "base_uri": "https://localhost:8080/"
        },
        "id": "fTepBQ7z-VGZ",
        "outputId": "be425ef5-bf7e-4e3b-b677-a0bb8b70a2f7"
      },
      "outputs": [
        {
          "data": {
            "text/plain": [
              "{'enforce_rounding': False, 'epochs': 500, 'verbose': True}"
            ]
          },
          "execution_count": 14,
          "metadata": {},
          "output_type": "execute_result"
        }
      ],
      "source": [
        "{\n",
        "    'enforce_rounding': False,\n",
        "    'epochs': 500,\n",
        "    'verbose': True\n",
        "}"
      ]
    },
    {
      "cell_type": "code",
      "execution_count": 15,
      "metadata": {
        "id": "gW8B64Zg-vhV"
      },
      "outputs": [],
      "source": [
        "metadata = synthesizer.get_metadata()"
      ]
    },
    {
      "cell_type": "markdown",
      "metadata": {
        "id": "wseeDoVBmn8X"
      },
      "source": [
        "# Training the Synthesizer"
      ]
    },
    {
      "cell_type": "code",
      "execution_count": 19,
      "metadata": {
        "colab": {
          "base_uri": "https://localhost:8080/"
        },
        "id": "Nk_J0wM4-vdn",
        "outputId": "2596f561-9bef-471e-bfd7-380ae2eb186f"
      },
      "outputs": [
        {
          "name": "stderr",
          "output_type": "stream",
          "text": [
            "Gen. (-2.19) | Discrim. (-0.02): 100%|██████████| 500/500 [01:52<00:00,  4.44it/s]\n"
          ]
        }
      ],
      "source": [
        "synthesizer.fit(data)"
      ]
    },
    {
      "cell_type": "markdown",
      "metadata": {
        "id": "21T289aemx3E"
      },
      "source": [
        "# Saving the Trained GAN into a Pickle File"
      ]
    },
    {
      "cell_type": "code",
      "execution_count": 20,
      "metadata": {
        "id": "8MZCtEwfaE2F"
      },
      "outputs": [],
      "source": [
        "synthesizer.save(\n",
        "    filepath=r'GAN_model\\trained_GAN.pkl'\n",
        ")"
      ]
    },
    {
      "cell_type": "markdown",
      "metadata": {
        "id": "kGSmfvMvm8G0"
      },
      "source": [
        "# Generating Synthetic Data"
      ]
    },
    {
      "cell_type": "code",
      "execution_count": 21,
      "metadata": {
        "id": "cuZe0xXyaEyp"
      },
      "outputs": [],
      "source": [
        "from sdv.single_table import CTGANSynthesizer\n",
        "\n",
        "synthesizer = CTGANSynthesizer.load(\n",
        "    filepath=r'GAN_model\\trained_GAN.pkl')"
      ]
    },
    {
      "cell_type": "code",
      "execution_count": 22,
      "metadata": {
        "id": "ssC7rX1QaEwC"
      },
      "outputs": [],
      "source": [
        "synthetic_data = synthesizer.sample(num_rows=2000)"
      ]
    },
    {
      "cell_type": "markdown",
      "metadata": {
        "id": "BbMvknQdnFCw"
      },
      "source": [
        "# Saving the Data as CSV File"
      ]
    },
    {
      "cell_type": "code",
      "execution_count": 23,
      "metadata": {
        "id": "YXtkV3-saEtb"
      },
      "outputs": [],
      "source": [
        "synthetic_data.to_csv(r'outputs\\synthetic_data5.csv', index=True)"
      ]
    },
    {
      "cell_type": "markdown",
      "metadata": {
        "id": "PkQVOTejnOqw"
      },
      "source": [
        "# Evaluating the Generated Synthetic Data"
      ]
    },
    {
      "cell_type": "code",
      "execution_count": 24,
      "metadata": {
        "colab": {
          "base_uri": "https://localhost:8080/"
        },
        "id": "mV9NvTIYaEqy",
        "outputId": "ea325b8d-611a-4cba-c2fc-4af2307af00b"
      },
      "outputs": [
        {
          "name": "stdout",
          "output_type": "stream",
          "text": [
            "Generating report ...\n",
            "(1/2) Evaluating Column Shapes: : 100%|██████████| 49/49 [00:00<00:00, 446.12it/s]\n",
            "(2/2) Evaluating Column Pair Trends: : 100%|██████████| 1176/1176 [00:12<00:00, 92.72it/s] \n",
            "\n",
            "Overall Quality Score: 82.53%\n",
            "\n",
            "Properties:\n",
            "- Column Shapes: 85.76%\n",
            "- Column Pair Trends: 79.29%\n"
          ]
        }
      ],
      "source": [
        "from sdv.evaluation.single_table import evaluate_quality\n",
        "\n",
        "quality_report = evaluate_quality(\n",
        "    data,\n",
        "    synthetic_data,\n",
        "    metadata\n",
        ")"
      ]
    },
    {
      "cell_type": "markdown",
      "metadata": {
        "id": "UOWw6iA5x1NP"
      },
      "source": [
        "# KSComplement\n",
        "This metric computes the similarity of a real column vs. a synthetic column in terms of the column shapes -- aka the marginal distribution or 1D histogram of the column.\n",
        "## Score\n",
        "(best) 1.0: The real data is exactly the same as the synthetic data\n",
        "\n",
        "---\n",
        "\n",
        "\n",
        "(worst) 0.0: The real and synthetic data are as different as they can be"
      ]
    },
    {
      "cell_type": "code",
      "execution_count": 25,
      "metadata": {
        "colab": {
          "base_uri": "https://localhost:8080/"
        },
        "id": "GHNQJoEhykc1",
        "outputId": "c8d17d44-65d3-4f64-d756-ffeabad2a353"
      },
      "outputs": [
        {
          "data": {
            "text/plain": [
              "0.7077643553629469"
            ]
          },
          "execution_count": 25,
          "metadata": {},
          "output_type": "execute_result"
        }
      ],
      "source": [
        "from sdmetrics.single_column import KSComplement\n",
        "\n",
        "KSComplement.compute(\n",
        "    real_data=data['avg_participants'],\n",
        "    synthetic_data=synthetic_data['avg_participants']\n",
        ")"
      ]
    },
    {
      "cell_type": "markdown",
      "metadata": {
        "id": "C0Yf1-Y7yfXK"
      },
      "source": []
    },
    {
      "cell_type": "markdown",
      "metadata": {
        "id": "VchCxKhb7pYT"
      },
      "source": [
        "# Missing Value Similarity\n",
        "This metric compares whether the synthetic data has the same proportion of missing values as the real data for a given column.\n",
        "## Score\n",
        "(best) 1.0: The synthetic data perfectly captures the proportion of missing values\n",
        "\n",
        "---\n",
        "\n",
        "\n",
        "(worst) 0.0: The synthetic data has a completely different proportion of missing values than the real data"
      ]
    },
    {
      "cell_type": "code",
      "execution_count": 32,
      "metadata": {
        "colab": {
          "base_uri": "https://localhost:8080/"
        },
        "id": "saoWPIqV7LeI",
        "outputId": "e12b6c77-05aa-4e4e-cc82-6d33f63b952f"
      },
      "outputs": [
        {
          "data": {
            "text/plain": [
              "1.0"
            ]
          },
          "execution_count": 32,
          "metadata": {},
          "output_type": "execute_result"
        }
      ],
      "source": [
        "from sdmetrics.single_column import MissingValueSimilarity\n",
        "\n",
        "MissingValueSimilarity.compute(\n",
        "    real_data=data['labels'],\n",
        "    synthetic_data=synthetic_data['labels']\n",
        ")"
      ]
    },
    {
      "cell_type": "markdown",
      "metadata": {
        "id": "3g2U9YdO9yj9"
      },
      "source": [
        "# StatisticSimilarity\n",
        "This metric measures the similarity between a real column and a synthetic column by comparing a summary statistic. Supported summary statistics are: mean, median and standard deviation.\n",
        "\n",
        "## Score\n",
        "(best) 1.0: The statistic for the real data is exactly the same at the synthetic data\n",
        "\n",
        "---\n",
        "\n",
        "\n",
        "(worst) 0.0: The statistic for the real data is extremely different from the synthetic data"
      ]
    },
    {
      "cell_type": "code",
      "execution_count": 33,
      "metadata": {
        "colab": {
          "base_uri": "https://localhost:8080/"
        },
        "id": "7-7vxgxH9N7C",
        "outputId": "6ec40dc9-1057-407b-eb3b-d8f1ee1f714e"
      },
      "outputs": [
        {
          "data": {
            "text/plain": [
              "0.9296960996749729"
            ]
          },
          "execution_count": 33,
          "metadata": {},
          "output_type": "execute_result"
        }
      ],
      "source": [
        "from sdmetrics.single_column import StatisticSimilarity\n",
        "\n",
        "StatisticSimilarity.compute(\n",
        "    real_data=data['labels'],\n",
        "    synthetic_data=synthetic_data['labels'],\n",
        "    statistic='mean'\n",
        ")"
      ]
    },
    {
      "cell_type": "markdown",
      "metadata": {
        "id": "VJEmqghJ-ups"
      },
      "source": [
        "# TVComplement\n",
        "This metric computes the similarity of a real column vs. a synthetic column in terms of the column shapes -- aka the marginal distribution or 1D histogram of the column.\n",
        "\n",
        "## Score\n",
        "(best) 1.0: The real data is exactly the same as the synthetic data\n",
        "\n",
        "---\n",
        "\n",
        "\n",
        "(worst) 0.0: The real and synthetic data are as different as they can be"
      ]
    },
    {
      "cell_type": "code",
      "execution_count": 34,
      "metadata": {
        "colab": {
          "base_uri": "https://localhost:8080/"
        },
        "id": "GWo57A9B-TME",
        "outputId": "5792e595-f177-47bb-b620-200912d9f7c9"
      },
      "outputs": [
        {
          "data": {
            "text/plain": [
              "0.9038645720476707"
            ]
          },
          "execution_count": 34,
          "metadata": {},
          "output_type": "execute_result"
        }
      ],
      "source": [
        "from sdmetrics.single_column import TVComplement\n",
        "\n",
        "TVComplement.compute(\n",
        "    real_data=data['state_code'],\n",
        "    synthetic_data=synthetic_data['state_code'],\n",
        ")"
      ]
    }
  ],
  "metadata": {
    "accelerator": "TPU",
    "colab": {
      "collapsed_sections": [
        "PkQVOTejnOqw",
        "UOWw6iA5x1NP"
      ],
      "gpuType": "V28",
      "provenance": []
    },
    "kernelspec": {
      "display_name": "Python 3",
      "name": "python3"
    },
    "language_info": {
      "codemirror_mode": {
        "name": "ipython",
        "version": 3
      },
      "file_extension": ".py",
      "mimetype": "text/x-python",
      "name": "python",
      "nbconvert_exporter": "python",
      "pygments_lexer": "ipython3",
      "version": "3.11.9"
    }
  },
  "nbformat": 4,
  "nbformat_minor": 0
}
